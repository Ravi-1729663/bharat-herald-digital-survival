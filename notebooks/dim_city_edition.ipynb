{
 "cells": [
  {
   "cell_type": "code",
   "execution_count": 1,
   "id": "4fa291f6-c997-4ec9-83b2-b0c50c8ba767",
   "metadata": {},
   "outputs": [],
   "source": [
    "# importing the modules \n",
    "import numpy as np\n",
    "import pandas as pd\n",
    "import matplotlib.pyplot as plt\n",
    "import seaborn as sns\n",
    "import plotly.express as px\n",
    "import re"
   ]
  },
  {
   "cell_type": "code",
   "execution_count": 2,
   "id": "c6ff806b-ab56-4583-9198-e7a49f3f51f3",
   "metadata": {},
   "outputs": [],
   "source": [
    "city=pd.read_excel(\"dim_city.xlsx\")\n",
    "sales=pd.read_excel(\"fact_print_sales.xlsx\")"
   ]
  },
  {
   "cell_type": "code",
   "execution_count": 3,
   "id": "3a283da2-5f9f-4d8c-b43c-71c9b7c5dc69",
   "metadata": {},
   "outputs": [
    {
     "data": {
      "text/plain": [
       "Index(['city_id', 'city', 'state', 'tier'], dtype='object')"
      ]
     },
     "execution_count": 3,
     "metadata": {},
     "output_type": "execute_result"
    }
   ],
   "source": [
    "city.columns"
   ]
  },
  {
   "cell_type": "code",
   "execution_count": 4,
   "id": "87c0fe18-4b31-4566-a6fe-ce830455dd6f",
   "metadata": {},
   "outputs": [
    {
     "data": {
      "text/plain": [
       "Index(['edition_id', 'city_id', 'language', 'state', 'month', 'copies_sold',\n",
       "       'net_circulation', 'copies_returned'],\n",
       "      dtype='object')"
      ]
     },
     "execution_count": 4,
     "metadata": {},
     "output_type": "execute_result"
    }
   ],
   "source": [
    "sales.columns"
   ]
  },
  {
   "cell_type": "code",
   "execution_count": 5,
   "id": "df0d53d7-83d4-437d-afd3-65e61eb79eab",
   "metadata": {},
   "outputs": [],
   "source": [
    "merge=city.merge(sales,on=\"city_id\",how=\"inner\")[[\"city_id\",\"edition_id\"]]"
   ]
  },
  {
   "cell_type": "code",
   "execution_count": 6,
   "id": "c58a7a43-f4d0-4429-99f7-65fdebfb4220",
   "metadata": {},
   "outputs": [
    {
     "data": {
      "text/plain": [
       "np.int64(710)"
      ]
     },
     "execution_count": 6,
     "metadata": {},
     "output_type": "execute_result"
    }
   ],
   "source": [
    "merge.duplicated().sum()"
   ]
  },
  {
   "cell_type": "code",
   "execution_count": 7,
   "id": "5a2ad2ee-fd50-40b3-85d2-fd14836e1992",
   "metadata": {},
   "outputs": [],
   "source": [
    "merge.drop_duplicates(keep=\"last\",inplace=True)"
   ]
  },
  {
   "cell_type": "code",
   "execution_count": 8,
   "id": "ca71d8f1-6313-4fa9-a0d3-952f8bb27a67",
   "metadata": {},
   "outputs": [],
   "source": [
    "merge=merge.sort_values(by=\"city_id\").reset_index(drop=True)"
   ]
  },
  {
   "cell_type": "code",
   "execution_count": 11,
   "id": "d2b9376f-a704-4ff8-a330-07da828b3b93",
   "metadata": {},
   "outputs": [],
   "source": [
    "df=merge.merge(city,on=\"city_id\")"
   ]
  },
  {
   "cell_type": "code",
   "execution_count": 13,
   "id": "92b535f5-ef6a-4b7f-9615-67910dc71209",
   "metadata": {},
   "outputs": [],
   "source": [
    "df.to_csv(\"dim_city_edition.csv\",index=True)"
   ]
  },
  {
   "cell_type": "code",
   "execution_count": null,
   "id": "2e28db1a-5c90-4a4b-9182-d8779de887f9",
   "metadata": {},
   "outputs": [],
   "source": []
  }
 ],
 "metadata": {
  "kernelspec": {
   "display_name": "Python [conda env:base] *",
   "language": "python",
   "name": "conda-base-py"
  },
  "language_info": {
   "codemirror_mode": {
    "name": "ipython",
    "version": 3
   },
   "file_extension": ".py",
   "mimetype": "text/x-python",
   "name": "python",
   "nbconvert_exporter": "python",
   "pygments_lexer": "ipython3",
   "version": "3.13.5"
  }
 },
 "nbformat": 4,
 "nbformat_minor": 5
}
